{
 "cells": [
  {
   "cell_type": "code",
   "execution_count": 1,
   "metadata": {},
   "outputs": [],
   "source": [
    "import numpy as np\n",
    "import matplotlib.pyplot as plt\n",
    "import math\n",
    "from math import radians, cos, sin, asin, sqrt\n",
    "from scipy import stats\n",
    "import osmnx as ox\n",
    "import networkx as nx\n",
    "import datetime\n",
    "from saferoutesite.SQLRequest3 import Regression_List \n",
    "from saferoutesite.current_weather import get_current_weather\n",
    "from saferoutesite.dijkstra_path1 import (get_bounding_box,\n",
    "get_graph, edge_to_latlon_pair, get_path, haversine)"
   ]
  },
  {
   "cell_type": "code",
   "execution_count": 2,
   "metadata": {},
   "outputs": [],
   "source": [
    "def go(args):\n",
    "    '''\n",
    "    Pull data from the crime database and weather information in order to \n",
    "    compute the safety score dictionary and runs all previous code in \n",
    "    order to find the safest route from start_address to end_address.\n",
    "    \n",
    "    Inputs:\n",
    "    {args} containing:\n",
    "      start_address (string): the starting point in the route\n",
    "      end_address (string): the destination of the route\n",
    "      date (string): the desired date if provided\n",
    "      hour (int): the time of day if provided\n",
    "      temp (int): temperature if provided\n",
    "      precip (int): precipitation (inches) if provided\n",
    "\n",
    "    \n",
    "    Outputs:\n",
    "      (list of lists of floats): the safest path in terms of (lat,lon)\n",
    "      coordinates\n",
    "    '''\n",
    "\n",
    "    start_address = args[\"start_address\"]\n",
    "    end_address = args[\"end_address\"]\n",
    "    date = args[\"date_of_travel\"]\n",
    "    hour = args[\"hour_of_travel\"]\n",
    "    temp = args[\"temperature\"]\n",
    "    precip = args[\"precipitation\"]\n",
    "\n",
    "    current_DT = datetime.datetime.now()\n",
    "    # handle optional args and set to defaults if necessary\n",
    "    if not date:\n",
    "        date = current_DT.strftime('%Y-%m-%d') \n",
    "    if not hour:\n",
    "        hour = current_DT.hour\n",
    "    current_temp, current_precip = get_current_weather()\n",
    "    if not temp:\n",
    "        temp = current_temp\n",
    "    if not precip:\n",
    "        precip = current_precip\n",
    "    #start_coord, end_coord = get_coordinates(start_address, end_address)\n",
    "    start_coord, end_coord = random_coords()\n",
    "\n",
    "    if not start_coord or not end_coord:\n",
    "        return \"Please enter valid addresses within the City of Chicago.\"\n",
    "\n",
    "    n_lat, s_lat, e_lon, w_lon = get_bounding_box(start_coord, end_coord)\n",
    "    G = get_graph(n_lat, s_lat, e_lon, w_lon)\n",
    "    nodes = list(G.nodes(data = True))\n",
    "    edges = [(start, end, attrs) for (start, end, attrs) in G.edges(data = True)\\\n",
    "             if 'name' in attrs.keys()]\n",
    "    node_dic = dict(G.nodes(data = True))\n",
    "    edges_lst = [edge_to_latlon_pair(G, edge) for edge in edges]\n",
    "\n",
    "    # adjust temperature and time sensitivities\n",
    "    t_sens = 12\n",
    "    p_sens = 0.5\n",
    "    time_low = hour - 2\n",
    "    time_up = hour + 2\n",
    "    scores = Regression_List(edges_lst, temp, precip, t_sens, p_sens, date,\\\n",
    "                             time_low, time_up)\n",
    "    \n",
    "    path, s_length = get_path(start_coord, end_coord, G, nodes, scores)\n",
    "    \n",
    "    route_steps = [[G.nodes[node]['y'],G.nodes[node]['x']] for node in path]\n",
    "    path_coords = [[start_coord[0],start_coord[1]]] + route_steps +\\\n",
    "                  [[end_coord[0],end_coord[1]]]\n",
    "\n",
    "    if type(s_length) == dict:\n",
    "        s_length = s_length[end_node]\n",
    "    return s_length,haversine(start_coord, end_coord)"
   ]
  },
  {
   "cell_type": "code",
   "execution_count": 3,
   "metadata": {},
   "outputs": [],
   "source": [
    "def random_coords():\n",
    "    '''\n",
    "    Gives random coordinates in the approximate vicinity of chicago.\n",
    "    Coordinates are on average 5km apart. \n",
    "    '''\n",
    "    lat1 = np.random.uniform(low=41.653530, high=42.019225)\n",
    "    lon1 = np.random.uniform(low=-87.803654, high=-87.524710)\n",
    "    len_ = 0.05 \n",
    "    lat2 = np.random.uniform(low=max(41.653530, lat1-len_), high=min(42.019225, lat1+len_))\n",
    "    lon2 = np.random.uniform(low=max(-87.803654, lon1-len_), high=min(-87.524710, lon1+len_))\n",
    "    return (lat1, lon1),(lat2, lon2)\n",
    "\n",
    "def random_temp():\n",
    "    '''\n",
    "    Give random temperature in degrees Farenheit.\n",
    "    Appropriate for average of Chicago\n",
    "    '''\n",
    "    #mean temperature of Chicago is 49.5\n",
    "    return np.random.normal(49.5, 30)\n",
    "\n",
    "def random_hour():\n",
    "    '''\n",
    "    Gives random number between 0 and 24  \n",
    "    '''\n",
    "    return int(np.random.uniform(0, 24))\n",
    "\n",
    "#From PA3\n",
    "def haversine(t1, t2):\n",
    "    '''\n",
    "    Calculate the circle distance between two points\n",
    "    on the earth (specified in decimal degrees)\n",
    "    '''\n",
    "    lat1, lon1 = t1\n",
    "    lat2, lon2 = t2\n",
    "    # convert decimal degrees to radians\n",
    "    lon1, lat1, lon2, lat2 = map(radians, [lon1, lat1, lon2, lat2])\n",
    "\n",
    "    # haversine formula\n",
    "    dlon = lon2 - lon1\n",
    "    dlat = lat2 - lat1\n",
    "    a = sin(dlat / 2)**2 + cos(lat1) * cos(lat2) * sin(dlon / 2)**2\n",
    "    c = 2 * asin(sqrt(a))\n",
    "\n",
    "    # 6367 km is the radius of the Earth\n",
    "    km = 6367 * c\n",
    "    m = km * 1000\n",
    "    return m\n",
    "\n",
    "#From Stack Overflow Question 8747761\n",
    "def lognorm(x,mu=0,sigma=1):\n",
    "    ''' \n",
    "    gives result of cdf of lognorm given mu/sigma\n",
    "    '''\n",
    "    a = (math.log(x) - mu)/math.sqrt(2*sigma**2)\n",
    "    p = 0.5 + 0.5*math.erf(a)\n",
    "    return p\n",
    "\n"
   ]
  },
  {
   "cell_type": "code",
   "execution_count": 10,
   "metadata": {},
   "outputs": [],
   "source": [
    "#Generating random sample \n",
    "s_lst = []\n",
    "for i in range(500):\n",
    "    try:\n",
    "        ret = go({\n",
    "              'start_address': None,\n",
    "              'end_address': None,\n",
    "              'date_of_travel': '2019-03-16',\n",
    "              'hour_of_travel': random_hour(),\n",
    "              'temperature': random_temp(),\n",
    "              'precipitation': 0})\n",
    "    #Accounts for the potential of random_coords returning\n",
    "    #coordinates not in chicago or identically located, etc. \n",
    "    except:\n",
    "        continue \n",
    "    s_lst.append(ret[0]/ret[1])"
   ]
  },
  {
   "cell_type": "code",
   "execution_count": 29,
   "metadata": {},
   "outputs": [
    {
     "data": {
      "image/png": "[encoded data removed]",
      "text/plain": [
       "<Figure size 432x288 with 1 Axes>"
      ]
     },
     "metadata": {
      "needs_background": "light"
     },
     "output_type": "display_data"
    }
   ],
   "source": [
    "#Data Visualization\n",
    "plt.hist(s_lst, 100, facecolor='blue', alpha=0.5)\n",
    "plt.show()"
   ]
  },
  {
   "cell_type": "code",
   "execution_count": 30,
   "metadata": {},
   "outputs": [],
   "source": [
    "#Estimating distribution\n",
    "shape, loc, scale = stats.lognorm.fit(s_lst, floc=0)"
   ]
  },
  {
   "cell_type": "code",
   "execution_count": 31,
   "metadata": {},
   "outputs": [
    {
     "data": {
      "text/plain": [
       "(10.433836709999136, 0.0, 893840.8440044996)"
      ]
     },
     "execution_count": 31,
     "metadata": {},
     "output_type": "execute_result"
    }
   ],
   "source": [
    "#Result of distribution\n",
    "shape, loc, scale"
   ]
  }
 ],
 "metadata": {
  "kernelspec": {
   "display_name": "Python 3",
   "language": "python",
   "name": "python3"
  },
  "language_info": {
   "codemirror_mode": {
    "name": "ipython",
    "version": 3
   },
   "file_extension": ".py",
   "mimetype": "text/x-python",
   "name": "python",
   "nbconvert_exporter": "python",
   "pygments_lexer": "ipython3",
   "version": "3.7.1"
  }
 },
 "nbformat": 4,
 "nbformat_minor": 2
}
