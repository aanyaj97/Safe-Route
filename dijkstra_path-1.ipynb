{
 "cells": [
  {
   "cell_type": "code",
   "execution_count": 8,
   "metadata": {},
   "outputs": [],
   "source": [
    "import osmnx as ox\n",
    "import networkx as nx\n",
    "import geopy.geocoders\n",
    "from geopy.geocoders import Nominatim\n",
    "from SQLRequest3 import Regression_List \n",
    "from dijkstra_path1 import go as gooo\n",
    "\n",
    "#sample_end_address = '5807 S Woodlawn Ave'\n",
    "#sample_start_address = '5481 S Maryland Ave'\n",
    "   \n",
    "def get_coordinates(start_address, end_address):\n",
    "#pull coordinates from address input\n",
    "    geolocator = Nominatim(user_agent=\"saferoute\", format_string=\"%s, Chicago IL\")\n",
    "    start_loc = geolocator.geocode(start_address)\n",
    "    end_loc = geolocator.geocode(end_address)\n",
    "    start_coord = (start_loc.latitude, start_loc.longitude)\n",
    "    end_coord = (end_loc.latitude, end_loc.longitude)\n",
    "    return start_coord, end_coord\n",
    "\n",
    "def get_bounding_box(start_coord, end_coord):\n",
    "\n",
    "    start_lat = start_coord[0]\n",
    "    start_lon = start_coord[1]\n",
    "    end_lat = end_coord[0]\n",
    "    end_lon = end_coord[1]\n",
    "    \n",
    "    if start_lat <= end_lat:\n",
    "        s_lat = start_lat - 0.001\n",
    "        n_lat = end_lat + 0.001\n",
    "    elif start_lat > end_lat:\n",
    "        n_lat = start_lat + 0.001\n",
    "        s_lat = end_lat - 0.001\n",
    "    \n",
    "    if start_lon <= end_lon:\n",
    "        w_lon = start_lon - 0.001\n",
    "        e_lon = end_lon + 0.001\n",
    "    elif start_lon > end_lon:\n",
    "        e_lon = start_lon + 0.001\n",
    "        w_lon = end_lon - 0.001\n",
    "    \n",
    "    return(n_lat, s_lat, e_lon, w_lon)\n",
    "                           \n",
    "\n",
    "def get_graph(n_lat, s_lat, e_lon, w_lon): \n",
    "    \n",
    "    B = ox.core.graph_from_bbox(n_lat, s_lat, e_lon, w_lon, network_type= 'walk', simplify=True, \\\n",
    "                                retain_all=False, truncate_by_edge=False, name='bounded', \\\n",
    "                                timeout=180, memory=None, max_query_area_size=2500000000, \\\n",
    "                                clean_periphery=True, infrastructure='way[\"highway\"]', custom_filter=None)\n",
    "    \n",
    "    B_undirected = ox.save_load.get_undirected(B)\n",
    "    \n",
    "    return B_undirected\n",
    "\n",
    "\n",
    "def update_edge_lengths(G, scores):\n",
    "\n",
    "    set_edge_dict = {}\n",
    "    new_attrs = {}\n",
    "    for start, end, attrs in list(G.edges(data = True)):\n",
    "        length = attrs['length']\n",
    "        score = scores.get(edge_to_latlon_pair(G, (start, end)), 10**12)\n",
    "        weight = score * length\n",
    "        set_edge_dict[(start, end,0)] = {'length': weight}\n",
    "    \n",
    "    nx.set_edge_attributes(G, set_edge_dict)\n",
    "\n",
    "\n",
    "        \n",
    "        \n",
    "def get_path(start_coord, end_coord, G, nodes, scores):\n",
    "    \n",
    "    update_edge_lengths(G, scores)\n",
    "\n",
    "    #find closest start_nodes\n",
    "    s_min_lon_dist = 100\n",
    "    s_min_lat_dist = 100\n",
    "    e_min_lon_dist = 100\n",
    "    e_min_lat_dist = 100\n",
    "    start_node = None\n",
    "    end_node = None\n",
    "    \n",
    "    for node, attrs in nodes:\n",
    "        lat = attrs['y']\n",
    "        lon = attrs['x']\n",
    "        s_lat_dist = abs(start_coord[0] - lat)\n",
    "        s_lon_dist = abs(start_coord[1] - lon)\n",
    "        e_lat_dist = abs(end_coord[0] - lat)\n",
    "        e_lon_dist = abs(end_coord[1] - lon)\n",
    "        if s_lat_dist <= s_min_lat_dist and s_lon_dist <= s_min_lon_dist:\n",
    "            s_min_lat_dist = s_lat_dist\n",
    "            s_min_lon_dist = s_lon_dist\n",
    "            start_node = node\n",
    "        if e_lat_dist <= e_min_lat_dist and e_lon_dist <= e_min_lon_dist:\n",
    "            e_min_lat_dist = e_lat_dist\n",
    "            e_min_lon_dist = e_lon_dist\n",
    "            end_node = node\n",
    "    \n",
    "    path = nx.dijkstra_path(G, start_node, end_node, weight='length')\n",
    "    \n",
    "    return path\n",
    "\n",
    "def plot_graph(path, G):\n",
    "    pos = nx.spring_layout(G)\n",
    "    h = G.subgraph(path)\n",
    "    nx.draw_networkx_nodes(G,pos,nodelist=path,node_color='r')\n",
    "    nx.draw_networkx_edges(G,pos=pos, edgelist = h.edges())\n",
    "\n",
    "def go(start_address, end_address, temp, precip, date, hour):\n",
    "\n",
    "    start_coord, end_coord = get_coordinates(start_address, end_address)\n",
    "    if start_coord == None or end_coord == None:\n",
    "        return \"Please Enter Valid Address\"\n",
    "    n_lat, s_lat, e_lon, w_lon = get_bounding_box(start_coord, end_coord)\n",
    "    \n",
    "    G = get_graph(n_lat, s_lat, e_lon, w_lon)\n",
    "    nodes = list(G.nodes(data = True))\n",
    "    edges = [(start, end, attrs) for (start, end, attrs) in G.edges(data = True) if 'name' in attrs.keys()]\n",
    "    \n",
    "    node_dic = dict(G.nodes(data = True))\n",
    "    edges_lst = [edge_to_latlon_pair(G, edge) for edge in edges]\n",
    "    #Regression_List(list_of_blocks, temp, precip, t_sens, p_sens, date, time_low, time_up) \n",
    "    t_sens = 8\n",
    "    p_sens = precip\n",
    "    time_low = hour - 1\n",
    "    time_up = hour + 2\n",
    "    scores = Regression_List(edges_lst, temp, precip, t_sens, p_sens, date, time_low, time_up)\n",
    "    #scores = Regression_List(edges_lst, 70, 0, 8, 1, '2019-02-26', 20, 24)\n",
    "    #scores = get score dictionary from G or use sample from google docs\n",
    "    \n",
    "    path = get_path(start_coord, end_coord, G, nodes, scores)\n",
    "    \n",
    "    path_coords = []\n",
    "    for node in path:\n",
    "        coord_list = []\n",
    "        lat = G.nodes[node]['y']\n",
    "        lon = G.nodes[node]['x']\n",
    "        coord_list = [lat, lon]\n",
    "        path_coords.append(coord_list)\n",
    "\n",
    "    return path_coords\n",
    "\n",
    "def edge_to_latlon_pair(G, edge):\n",
    "    node1 = G.nodes[edge[0]]\n",
    "    node2 = G.nodes[edge[1]]\n",
    "    n1 = (node1['y'], node1['x'])\n",
    "    n2 = (node2['y'], node2['x'])\n",
    "    return ((n1),(n2))"
   ]
  },
  {
   "cell_type": "code",
   "execution_count": 9,
   "metadata": {},
   "outputs": [],
   "source": [
    "sample_end_address = '5807 S Woodlawn Ave'\n",
    "sample_start_address = '5481 S Maryland Ave'"
   ]
  },
  {
   "cell_type": "code",
   "execution_count": 10,
   "metadata": {},
   "outputs": [],
   "source": [
    "temp = 70\n",
    "precip = 0\n",
    "date= '2019-02-26'\n",
    "hour = 22"
   ]
  },
  {
   "cell_type": "code",
   "execution_count": 11,
   "metadata": {},
   "outputs": [],
   "source": [
    "res = go('6104 S Dorchester Ave', '5481 S Maryland Ave', temp, precip, date, hour)"
   ]
  },
  {
   "cell_type": "code",
   "execution_count": 12,
   "metadata": {},
   "outputs": [],
   "source": [
    "res2 = gooo('6104 S Dorchester Ave', '5481 S Maryland Ave', temp, precip, date, hour)"
   ]
  },
  {
   "cell_type": "code",
   "execution_count": 13,
   "metadata": {},
   "outputs": [
    {
     "data": {
      "text/plain": [
       "[[41.7860077, -87.5915829],\n",
       " [41.786084, -87.5915886],\n",
       " [41.7860656, -87.5930936],\n",
       " [41.7860584, -87.5939084],\n",
       " [41.7860563, -87.5947086],\n",
       " [41.7860209, -87.5962285],\n",
       " [41.7860071, -87.5963328],\n",
       " [41.786395, -87.5963427],\n",
       " [41.786507, -87.5963454],\n",
       " [41.7865942, -87.5963475],\n",
       " [41.7871639, -87.5963608],\n",
       " [41.7872257, -87.5963623],\n",
       " [41.7873622, -87.5963655],\n",
       " [41.7877215, -87.5963739],\n",
       " [41.7878006, -87.5963758],\n",
       " [41.7877991, -87.5964793],\n",
       " [41.7877799, -87.5979926],\n",
       " [41.7877789, -87.5980809],\n",
       " [41.7877738, -87.5985516],\n",
       " [41.7877653, -87.5996084],\n",
       " [41.7877569, -87.6006483],\n",
       " [41.7877532, -87.601111],\n",
       " [41.7877523, -87.6012275],\n",
       " [41.7878249, -87.601229],\n",
       " [41.7892299, -87.6012585],\n",
       " [41.7895709, -87.6012656],\n",
       " [41.7895569, -87.6019497],\n",
       " [41.7895513, -87.602465],\n",
       " [41.7895926, -87.6024668],\n",
       " [41.7902233, -87.6024821],\n",
       " [41.7902469, -87.6024462]]"
      ]
     },
     "execution_count": 13,
     "metadata": {},
     "output_type": "execute_result"
    }
   ],
   "source": [
    "res"
   ]
  },
  {
   "cell_type": "code",
   "execution_count": 14,
   "metadata": {},
   "outputs": [
    {
     "data": {
      "text/plain": [
       "True"
      ]
     },
     "execution_count": 14,
     "metadata": {},
     "output_type": "execute_result"
    }
   ],
   "source": [
    "res2 == res"
   ]
  },
  {
   "cell_type": "code",
   "execution_count": null,
   "metadata": {},
   "outputs": [],
   "source": []
  }
 ],
 "metadata": {
  "kernelspec": {
   "display_name": "Python 3",
   "language": "python",
   "name": "python3"
  },
  "language_info": {
   "codemirror_mode": {
    "name": "ipython",
    "version": 3
   },
   "file_extension": ".py",
   "mimetype": "text/x-python",
   "name": "python",
   "nbconvert_exporter": "python",
   "pygments_lexer": "ipython3",
   "version": "3.7.1"
  }
 },
 "nbformat": 4,
 "nbformat_minor": 2
}
