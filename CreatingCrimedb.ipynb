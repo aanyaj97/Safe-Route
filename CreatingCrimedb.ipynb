{
 "cells": [
  {
   "cell_type": "code",
   "execution_count": 1,
   "metadata": {},
   "outputs": [],
   "source": [
    "import pandas as pd\n",
    "import sqlite3"
   ]
  },
  {
   "cell_type": "code",
   "execution_count": null,
   "metadata": {},
   "outputs": [],
   "source": [
    "c = sqlite3.connect(\"Crime.db\")"
   ]
  },
  {
   "cell_type": "code",
   "execution_count": 5,
   "metadata": {},
   "outputs": [],
   "source": [
    "#csv from https://data.cityofchicago.org/Public-Safety/Crimes-2001-to-present/ijzp-q8t2\n",
    "DF = pd.read_csv('AllCrimes.csv')\n",
    "DF.index = DF.iloc[:,0]"
   ]
  },
  {
   "cell_type": "code",
   "execution_count": 6,
   "metadata": {},
   "outputs": [],
   "source": [
    "#remove weapons violation, public peace violation, public indecency, offense involving children\n",
    "important_types = pd.Series(['BATTERY', 'ROBBERY', 'THEFT', 'BURGLARY',\n",
    "       'ASSAULT', 'CRIM SEXUAL ASSAULT', 'KIDNAPPING', 'SEX OFFENSE', \n",
    "                             'HOMICIDE', 'INTIMIDATION'])"
   ]
  },
  {
   "cell_type": "code",
   "execution_count": 7,
   "metadata": {},
   "outputs": [],
   "source": [
    "#Removes any locations not adjacent to a street or path\n",
    "important_location = pd.Series(['STREET', 'SIDEWALK',\n",
    "       'PARKING LOT/GARAGE(NON.RESID.)',\n",
    "       'DRIVEWAY - RESIDENTIAL', 'ALLEY', 'CTA BUS STOP',\n",
    "       'VACANT LOT/LAND',\n",
    "       'RESIDENTIAL YARD (FRONT/BACK)', \n",
    "       'COLLEGE/UNIVERSITY GROUNDS', \n",
    "       'PARK PROPERTY', \n",
    "       'CHA PARKING LOT/GROUNDS', \n",
    "       'LAKEFRONT/WATERFRONT/RIVERBANK',\n",
    "       'BRIDGE', 'PARKING LOT', \n",
    "       'CEMETARY', 'HIGHWAY/EXPRESSWAY', 'YARD', \n",
    "       'VACANT LOT', 'CHA PARKING LOT', \n",
    "       'DRIVEWAY', \n",
    "       'CHA GROUNDS', 'RIVER', 'LAGOON',\n",
    "       'DUMPSTER', 'WOODED AREA', 'RIVER BANK'])"
   ]
  },
  {
   "cell_type": "code",
   "execution_count": 8,
   "metadata": {},
   "outputs": [],
   "source": [
    "#Keep only relevent columns \n",
    "important_cols = ['Case Number', 'Date', 'Block', 'IUCR', 'Primary Type',\n",
    "       'Description', 'Location Description', 'Arrest', 'X Coordinate',\n",
    "       'Y Coordinate', 'Latitude', 'Longitude']"
   ]
  },
  {
   "cell_type": "code",
   "execution_count": 10,
   "metadata": {},
   "outputs": [],
   "source": [
    "DF1 = DF[(DF['Primary Type'].isin(important_types))&(\n",
    "    DF['Location Description'].isin(important_location))]\n",
    "DF1 = DF1[important_cols]"
   ]
  },
  {
   "cell_type": "code",
   "execution_count": 12,
   "metadata": {},
   "outputs": [],
   "source": [
    "#Standardize block names\n",
    "DF1.Block = DF1.Block.str.upper()"
   ]
  },
  {
   "cell_type": "code",
   "execution_count": 14,
   "metadata": {},
   "outputs": [],
   "source": [
    "#Estimate Coordinates for any data where block name is given but coordinates are not\n",
    "DF1[\"X Coordinate\"] = DF1.groupby(\"Block\")[\n",
    "    \"X Coordinate\"].transform(lambda x: x.fillna(x.mean()))\n",
    "DF1[\"Y Coordinate\"] = DF1.groupby(\"Block\")[\n",
    "    \"X Coordinate\"].transform(lambda x: x.fillna(x.mean()))\n",
    "DF1[\"Latitude\"] = DF1.groupby(\"Block\")[\n",
    "    \"Latitude\"].transform(lambda x: x.fillna(x.mean()))\n",
    "DF1[\"Longitude\"] = DF1.groupby(\"Block\")[\n",
    "    \"Longitude\"].transform(lambda x: x.fillna(x.mean()))"
   ]
  },
  {
   "cell_type": "code",
   "execution_count": 17,
   "metadata": {},
   "outputs": [],
   "source": [
    "#Remove any data for which coordinates cannot be obtained\n",
    "DF1 = DF1.dropna()"
   ]
  },
  {
   "cell_type": "code",
   "execution_count": 16,
   "metadata": {},
   "outputs": [],
   "source": [
    "#Convert date axis\n",
    "DF1['Date'] = pd.to_datetime(DF1['Date'])"
   ]
  },
  {
   "cell_type": "code",
   "execution_count": 18,
   "metadata": {},
   "outputs": [],
   "source": [
    "#Create new day/hour columns \n",
    "DF1['Day'] = DF1['Date'].dt.date\n",
    "DF1['Hour'] = DF1['Date'].dt.hour"
   ]
  },
  {
   "cell_type": "code",
   "execution_count": 20,
   "metadata": {},
   "outputs": [],
   "source": [
    "#Fix columns so they can be used in SQL \n",
    "cols = [k.replace(' ', '_') for k in DF1.columns]\n",
    "DF1.columns = cols"
   ]
  },
  {
   "cell_type": "code",
   "execution_count": 21,
   "metadata": {},
   "outputs": [],
   "source": [
    "#Write to SQL\n",
    "DF1.to_sql('CrimeData1', c, if_exists = 'replace', index = True)"
   ]
  },
  {
   "cell_type": "code",
   "execution_count": 3,
   "metadata": {},
   "outputs": [],
   "source": [
    "#Data received via request from https://www.ncdc.noaa.gov/cdo-web/\n",
    "Weather = pd.read_csv('DailyWeather.csv')"
   ]
  },
  {
   "cell_type": "code",
   "execution_count": 8,
   "metadata": {},
   "outputs": [],
   "source": [
    "#Keep only relevent columns \n",
    "Weather = Weather[['DATE', 'DAILYAverageDryBulbTemp', 'DAILYPrecip']]\n",
    "Weather.columns = ['Date', 'AverageTemp', 'Precip']"
   ]
  },
  {
   "cell_type": "code",
   "execution_count": null,
   "metadata": {},
   "outputs": [],
   "source": [
    "#Clean data\n",
    "Weather['Precip'] = Weather.Precip.str.replace('T','0.001')\n",
    "Weather['Precip'] = Weather.Precip.str.replace('s','')\n",
    "Weather['Precip'] = Weather.Precip.astype('float64')"
   ]
  },
  {
   "cell_type": "code",
   "execution_count": 25,
   "metadata": {},
   "outputs": [],
   "source": [
    "#Convert Date values \n",
    "Weather['Date'] = pd.to_datetime(Weather['Date'])\n",
    "Weather['Date'] = Weather.Date.dt.date"
   ]
  },
  {
   "cell_type": "code",
   "execution_count": 33,
   "metadata": {},
   "outputs": [],
   "source": [
    "Send to SQL\n",
    "Weather.to_sql('DailyWeather', c, if_exists = 'replace', index = False)"
   ]
  },
  {
   "cell_type": "code",
   "execution_count": 23,
   "metadata": {},
   "outputs": [],
   "source": [
    "#Close SQL connection \n",
    "c.close()"
   ]
  }
 ],
 "metadata": {
  "kernelspec": {
   "display_name": "Python 3",
   "language": "python",
   "name": "python3"
  },
  "language_info": {
   "codemirror_mode": {
    "name": "ipython",
    "version": 3
   },
   "file_extension": ".py",
   "mimetype": "text/x-python",
   "name": "python",
   "nbconvert_exporter": "python",
   "pygments_lexer": "ipython3",
   "version": "3.7.1"
  }
 },
 "nbformat": 4,
 "nbformat_minor": 2
}
